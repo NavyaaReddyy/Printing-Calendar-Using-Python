{
  "nbformat": 4,
  "nbformat_minor": 0,
  "metadata": {
    "colab": {
      "provenance": []
    },
    "kernelspec": {
      "name": "python3",
      "display_name": "Python 3"
    },
    "language_info": {
      "name": "python"
    }
  },
  "cells": [
    {
      "cell_type": "code",
      "execution_count": null,
      "metadata": {
        "colab": {
          "base_uri": "https://localhost:8080/"
        },
        "id": "cpH4dGwBoOqR",
        "outputId": "77b1fc4f-e24d-4d74-c509-7fedfc09f602"
      },
      "outputs": [
        {
          "output_type": "stream",
          "name": "stdout",
          "text": [
            "Input Year: 2024\n",
            "                      2024\n",
            "\n",
            "      January                     February\n",
            "Mo Tu We Th Fr Sa Su        Mo Tu We Th Fr Sa Su\n",
            " 1  2  3  4  5  6  7                  1  2  3  4\n",
            " 8  9 10 11 12 13 14         5  6  7  8  9 10 11\n",
            "15 16 17 18 19 20 21        12 13 14 15 16 17 18\n",
            "22 23 24 25 26 27 28        19 20 21 22 23 24 25\n",
            "29 30 31                    26 27 28 29\n",
            "\n",
            "       March                       April\n",
            "Mo Tu We Th Fr Sa Su        Mo Tu We Th Fr Sa Su\n",
            "             1  2  3         1  2  3  4  5  6  7\n",
            " 4  5  6  7  8  9 10         8  9 10 11 12 13 14\n",
            "11 12 13 14 15 16 17        15 16 17 18 19 20 21\n",
            "18 19 20 21 22 23 24        22 23 24 25 26 27 28\n",
            "25 26 27 28 29 30 31        29 30\n",
            "\n",
            "        May                         June\n",
            "Mo Tu We Th Fr Sa Su        Mo Tu We Th Fr Sa Su\n",
            "       1  2  3  4  5                        1  2\n",
            " 6  7  8  9 10 11 12         3  4  5  6  7  8  9\n",
            "13 14 15 16 17 18 19        10 11 12 13 14 15 16\n",
            "20 21 22 23 24 25 26        17 18 19 20 21 22 23\n",
            "27 28 29 30 31              24 25 26 27 28 29 30\n",
            "\n",
            "        July                       August\n",
            "Mo Tu We Th Fr Sa Su        Mo Tu We Th Fr Sa Su\n",
            " 1  2  3  4  5  6  7                  1  2  3  4\n",
            " 8  9 10 11 12 13 14         5  6  7  8  9 10 11\n",
            "15 16 17 18 19 20 21        12 13 14 15 16 17 18\n",
            "22 23 24 25 26 27 28        19 20 21 22 23 24 25\n",
            "29 30 31                    26 27 28 29 30 31\n",
            "\n",
            "     September                    October\n",
            "Mo Tu We Th Fr Sa Su        Mo Tu We Th Fr Sa Su\n",
            "                   1            1  2  3  4  5  6\n",
            " 2  3  4  5  6  7  8         7  8  9 10 11 12 13\n",
            " 9 10 11 12 13 14 15        14 15 16 17 18 19 20\n",
            "16 17 18 19 20 21 22        21 22 23 24 25 26 27\n",
            "23 24 25 26 27 28 29        28 29 30 31\n",
            "30\n",
            "\n",
            "      November                    December\n",
            "Mo Tu We Th Fr Sa Su        Mo Tu We Th Fr Sa Su\n",
            "             1  2  3                           1\n",
            " 4  5  6  7  8  9 10         2  3  4  5  6  7  8\n",
            "11 12 13 14 15 16 17         9 10 11 12 13 14 15\n",
            "18 19 20 21 22 23 24        16 17 18 19 20 21 22\n",
            "25 26 27 28 29 30           23 24 25 26 27 28 29\n",
            "                            30 31\n",
            "\n"
          ]
        }
      ],
      "source": [
        "import calendar\n",
        "\n",
        "year = int(input(\"Input Year: \"))\n",
        "\n",
        "print(calendar.calendar(year, 2, 1, 8, 2))\n"
      ]
    }
  ]
}